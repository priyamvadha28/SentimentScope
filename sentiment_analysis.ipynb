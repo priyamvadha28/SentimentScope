{
 "cells": [
  {
   "cell_type": "markdown",
   "metadata": {},
   "source": [
    "SENTIMENT ANALYSIS"
   ]
  },
  {
   "cell_type": "code",
   "execution_count": null,
   "metadata": {},
   "outputs": [],
   "source": [
    "# Importing required modules\n",
    "import pandas as pd\n",
    "from openai import AzureOpenAI\n",
    "import re"
   ]
  },
  {
   "cell_type": "code",
   "execution_count": null,
   "metadata": {},
   "outputs": [],
   "source": [
    "# Set variables for Azure OpenAI\n",
    "AZURE_OPENAI_API_KEY = \"\"\n",
    "AZURE_OPENAI_ENDPOINT = \"\""
   ]
  },
  {
   "cell_type": "code",
   "execution_count": null,
   "metadata": {},
   "outputs": [],
   "source": [
    "# Configure Azure OpenAI using LLM\n",
    "llm = AzureOpenAI(\n",
    "    api_key=AZURE_OPENAI_API_KEY,\n",
    "    api_version='',\n",
    "    azure_endpoint=AZURE_OPENAI_ENDPOINT\n",
    ")"
   ]
  },
  {
   "cell_type": "code",
   "execution_count": null,
   "metadata": {},
   "outputs": [],
   "source": [
    "# Load the dataset from user-provided Excel file\n",
    "# Note: The dataset should contain columns with client feedback. \n",
    "# The first column is assumed to be an ID or index column, and the remaining columns are feature columns with feedback.\n",
    "data = pd.read_excel(\"your_excel_file.xlsx\")\n",
    "\n",
    "# Print the column names and a sample of the data to understand its structure\n",
    "print(\"Columns in the dataset:\", data.columns)\n",
    "print(\"Sample data:\\n\", data.head())"
   ]
  },
  {
   "cell_type": "code",
   "execution_count": null,
   "metadata": {},
   "outputs": [],
   "source": [
    "# Define a function to clean text data\n",
    "def clean_text(text):\n",
    "    # Remove non-ASCII characters\n",
    "    text = re.sub(r'[^\\x00-\\x7F]+', ' ', text)  \n",
    "    # Remove tabs, newlines, and carriage returns\n",
    "    text = re.sub(r'[\\t\\n\\r]+', ' ', text)     \n",
    "    # Replace multiple spaces with a single space and strip leading/trailing spaces\n",
    "    text = re.sub(r'\\s+', ' ', text).strip()   \n",
    "    # Remove control characters\n",
    "    text = re.sub(r'[\\000-\\010]|[\\013-\\014]|[\\016-\\037]', '', text) \n",
    "    return text"
   ]
  },
  {
   "cell_type": "code",
   "execution_count": null,
   "metadata": {},
   "outputs": [],
   "source": [
    "# Define a function to analyze the sentiment\n",
    "def analyze_sentiment(feedback):\n",
    "    prompt = f\"\"\"The data provided consists of feedback given by the client. Your task is to analyze the sentiment of the feedback and categorize it as either \"progressive,\" \"lagging,\" \"stagnant,\" or \"unclear.\"\n",
    "\n",
    "- The sentiment is considered \"progressive\" if the feedback consists of one or more words including positive words or indicates that progress has been made. Positive feedback that shows approval, satisfaction, or any sign of advancement falls under this category.\n",
    "\n",
    "- The sentiment is considered \"lagging\" if the feedback consists of one or more words including negative words or indicates that the competitor is performing better. Negative feedback that highlights limitations, dissatisfaction, or points out that a competitor's performance or features are superior should be categorized as lagging.\n",
    "\n",
    "- The sentiment is considered \"stagnant\" if the feedback consists of one or more words that suggest no growth or no progress. Feedback that indicates a pause, uncertainty, or a lack of improvement should be categorized as stagnant. When the feedback includes both positive and negative aspects, it needs to be categorized as stagnant.\n",
    "\n",
    "- The sentiment is considered \"unclear\" if the feedback is a single word or if it does not provide enough context to categorize it as \"progressive,\" \"lagging,\" or \"stagnant\".\n",
    "\n",
    "For \"unclear\" feedback, simply return the word \"Unclear\". For other categories, provide the sentiment, a score between 0-100, and the reason.\n",
    "\n",
    "The output should be in the following format:\n",
    "Sentiment: [progressive/lagging/stagnant/unclear]\n",
    "Score: [0-100]\n",
    "Reason: [explanation]\"\"\"\n",
    "\n",
    "    raw_response = llm.chat.completions.create(\n",
    "        model=\"\",\n",
    "        messages=[\n",
    "            {\"role\": \"system\", \"content\": prompt},\n",
    "            {\"role\": \"user\", \"content\": feedback}\n",
    "        ]\n",
    "    )\n",
    "\n",
    "    response_content = raw_response.choices[0].message.content.strip()\n",
    "\n",
    "    if \"Unclear\" in response_content:\n",
    "        return {\"Text\": feedback, \"Sentiment\": \"Unclear\", \"Score\": None, \"Reason\": \"\"}\n",
    "    else:\n",
    "        try:\n",
    "            # Extract sentiment, score, and reason from the response\n",
    "            sentiment_start = response_content.find(\"Sentiment:\") + len(\"Sentiment:\")\n",
    "            score_start = response_content.find(\"Score:\") + len(\"Score:\")\n",
    "            reason_start = response_content.find(\"Reason:\") + len(\"Reason:\")\n",
    "\n",
    "            sentiment = response_content[sentiment_start:response_content.find(\"Score:\")].strip()\n",
    "            score = response_content[score_start:response_content.find(\"Reason:\")].strip()\n",
    "            reason = response_content[reason_start:].strip()\n",
    "\n",
    "            return {\"Text\": feedback, \"Sentiment\": sentiment, \"Score\": score, \"Reason\": reason}\n",
    "        except Exception as e:\n",
    "            # Handle unexpected response format\n",
    "            return {\"Text\": feedback, \"Sentiment\": \"Unknown\", \"Score\": None, \"Reason\": f\"Unexpected response format. Error: {str(e)}\"}"
   ]
  },
  {
   "cell_type": "code",
   "execution_count": null,
   "metadata": {},
   "outputs": [],
   "source": [
    "# Cache to store previously analyzed sentiments\n",
    "sentiment_cache = {}\n",
    "\n",
    "# List to store the results for all feedback entries\n",
    "results = []\n",
    "\n",
    "# Iterate over each row in the DataFrame\n",
    "for index, row in data.iterrows():\n",
    "    row_result = {'ID': row['ID']}  # Initialize result dictionary for each row\n",
    "    for feature in data.columns[1:]:  # Iterate through all columns except the first column (assumed to be ID)\n",
    "        feedback = row[feature]\n",
    "        if pd.notna(feedback):  # Check if feedback is not NaN\n",
    "            cleaned_feedback = clean_text(feedback)\n",
    "            if cleaned_feedback in sentiment_cache:\n",
    "                sentiment_reason = sentiment_cache[cleaned_feedback]\n",
    "            else:\n",
    "                sentiment_reason = analyze_sentiment(cleaned_feedback)\n",
    "                sentiment_cache[cleaned_feedback] = sentiment_reason\n",
    "            row_result[feature] = cleaned_feedback  # Store cleaned feedback\n",
    "            row_result[f'{feature}_sentiment_reason'] = sentiment_reason  # Store sentiment analysis result\n",
    "    results.append(row_result)  # Append the result for the current row to the list\n",
    "\n",
    "# Create a DataFrame from the results list\n",
    "final_df = pd.DataFrame(results)"
   ]
  },
  {
   "cell_type": "code",
   "execution_count": null,
   "metadata": {},
   "outputs": [],
   "source": [
    "# Save the results to an Excel file\n",
    "final_df.to_excel('sentiment_analysis_results.xlsx', index=False, engine='openpyxl')\n",
    "print(\"Sentiment analysis results saved to 'sentiment_analysis_results.xlsx'.\")"
   ]
  }
 ],
 "metadata": {
  "language_info": {
   "name": "python"
  }
 },
 "nbformat": 4,
 "nbformat_minor": 2
}
